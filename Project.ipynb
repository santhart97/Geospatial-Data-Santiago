{
 "cells": [
  {
   "cell_type": "code",
   "execution_count": 1,
   "metadata": {},
   "outputs": [],
   "source": [
    "import pandas as pd\n",
    "import os\n",
    "import geopandas as gpd\n",
    "from pymongo import MongoClient\n",
    "import requests\n",
    "import json \n",
    "from dotenv import load_dotenv\n",
    "import folium\n",
    "from folium import Choropleth, Circle, Marker, Icon, Map"
   ]
  },
  {
   "cell_type": "code",
   "execution_count": 2,
   "metadata": {},
   "outputs": [],
   "source": [
    "client = MongoClient(\"mongodb://localhost/ironhack\")\n",
    "db = client.get_database()"
   ]
  },
  {
   "cell_type": "code",
   "execution_count": 5,
   "metadata": {},
   "outputs": [
    {
     "data": {
      "text/plain": [
       "[{'name': 'companies',\n",
       "  'type': 'collection',\n",
       "  'options': {},\n",
       "  'info': {'readOnly': False,\n",
       "   'uuid': UUID('f0df70fa-ecbb-4210-b11a-d2f3d3075dc8')},\n",
       "  'idIndex': {'v': 2, 'key': {'_id': 1}, 'name': '_id_'}}]"
      ]
     },
     "execution_count": 5,
     "metadata": {},
     "output_type": "execute_result"
    }
   ],
   "source": [
    "list(db.list_collections())"
   ]
  },
  {
   "cell_type": "code",
   "execution_count": 6,
   "metadata": {},
   "outputs": [
    {
     "data": {
      "text/plain": [
       "[None,\n",
       " 'advertising',\n",
       " 'analytics',\n",
       " 'automotive',\n",
       " 'biotech',\n",
       " 'cleantech',\n",
       " 'consulting',\n",
       " 'design',\n",
       " 'ecommerce',\n",
       " 'education',\n",
       " 'enterprise',\n",
       " 'fashion',\n",
       " 'finance',\n",
       " 'games_video',\n",
       " 'government',\n",
       " 'hardware',\n",
       " 'health',\n",
       " 'hospitality',\n",
       " 'legal',\n",
       " 'local',\n",
       " 'manufacturing',\n",
       " 'medical',\n",
       " 'messaging',\n",
       " 'mobile',\n",
       " 'music',\n",
       " 'nanotech',\n",
       " 'network_hosting',\n",
       " 'news',\n",
       " 'nonprofit',\n",
       " 'other',\n",
       " 'photo_video',\n",
       " 'public_relations',\n",
       " 'real_estate',\n",
       " 'search',\n",
       " 'security',\n",
       " 'semiconductor',\n",
       " 'social',\n",
       " 'software',\n",
       " 'sports',\n",
       " 'transportation',\n",
       " 'travel',\n",
       " 'web']"
      ]
     },
     "execution_count": 6,
     "metadata": {},
     "output_type": "execute_result"
    }
   ],
   "source": [
    "db.companies.distinct(\"category_code\") "
   ]
  },
  {
   "cell_type": "markdown",
   "metadata": {},
   "source": [
    "I make a dataframe with all of the web companies, I use London because is one of the European cities with the most tech companies."
   ]
  },
  {
   "cell_type": "code",
   "execution_count": null,
   "metadata": {},
   "outputs": [],
   "source": []
  }
 ],
 "metadata": {
  "kernelspec": {
   "display_name": "Python 3",
   "language": "python",
   "name": "python3"
  },
  "language_info": {
   "codemirror_mode": {
    "name": "ipython",
    "version": 3
   },
   "file_extension": ".py",
   "mimetype": "text/x-python",
   "name": "python",
   "nbconvert_exporter": "python",
   "pygments_lexer": "ipython3",
   "version": "3.9.1"
  }
 },
 "nbformat": 4,
 "nbformat_minor": 4
}
